{
  "nbformat": 4,
  "nbformat_minor": 0,
  "metadata": {
    "colab": {
      "provenance": [],
      "toc_visible": true,
      "include_colab_link": true
    },
    "kernelspec": {
      "name": "python3",
      "display_name": "Python 3"
    },
    "language_info": {
      "name": "python"
    }
  },
  "cells": [
    {
      "cell_type": "markdown",
      "metadata": {
        "id": "view-in-github",
        "colab_type": "text"
      },
      "source": [
        "<a href=\"https://colab.research.google.com/github/AkramHussainKhan/Python02/blob/main/Python02.ipynb\" target=\"_parent\"><img src=\"https://colab.research.google.com/assets/colab-badge.svg\" alt=\"Open In Colab\"/></a>"
      ]
    },
    {
      "cell_type": "markdown",
      "source": [
        "# Basics of List\n"
      ],
      "metadata": {
        "id": "Ym_vVujn8lx3"
      }
    },
    {
      "cell_type": "markdown",
      "source": [
        "\n",
        "## ▶ List:\n",
        "\n",
        "A list is a collection of items in a particular order.In Python, square brackets ([]) indicate a list, and individual elements\n",
        "in the list are separated by commas."
      ],
      "metadata": {
        "id": "pV-Rb7woPw8f"
      }
    },
    {
      "cell_type": "code",
      "execution_count": null,
      "metadata": {
        "colab": {
          "base_uri": "https://localhost:8080/"
        },
        "id": "69wQibwIPtZD",
        "outputId": "f31ec93f-fee7-4d27-fd6f-fce662e94c5a"
      },
      "outputs": [
        {
          "output_type": "stream",
          "name": "stdout",
          "text": [
            "['trek', 'cannondale', 'redline', 'specialized']\n"
          ]
        }
      ],
      "source": [
        "bicycles = ['trek', 'cannondale', 'redline', 'specialized']\n",
        "print(bicycles)"
      ]
    },
    {
      "cell_type": "markdown",
      "source": [
        "### ▶ Accessing Elements in a List:\n",
        "\n",
        "Lists are ordered collections, so you can access any element in a list by\n",
        "telling Python the position, or index, of the item desired. Python considers the first item in a list to be at position 0, not position 1."
      ],
      "metadata": {
        "id": "l0FDDBX2PvvY"
      }
    },
    {
      "cell_type": "code",
      "source": [
        "bicycles = ['trek', 'cannondale', 'redline', 'specialized']\n",
        "print(bicycles[0])\n",
        "print(bicycles[0].title())"
      ],
      "metadata": {
        "colab": {
          "base_uri": "https://localhost:8080/"
        },
        "id": "dYLFI4-kQYrn",
        "outputId": "b1acf49d-38be-48d4-fa1e-460e7af5d836"
      },
      "execution_count": null,
      "outputs": [
        {
          "output_type": "stream",
          "name": "stdout",
          "text": [
            "trek\n",
            "Trek\n"
          ]
        }
      ]
    },
    {
      "cell_type": "markdown",
      "source": [
        "Python has a special syntax for accessing the last element in a list. By asking\n",
        "for the item at index -1, Python always returns the last item in the list"
      ],
      "metadata": {
        "id": "Mgvr6UFzQego"
      }
    },
    {
      "cell_type": "code",
      "source": [
        "print(bicycles[-1])"
      ],
      "metadata": {
        "colab": {
          "base_uri": "https://localhost:8080/"
        },
        "id": "cYFMKB1dQ74X",
        "outputId": "f89acb77-8e3e-442e-ac61-2f0f71bfba18"
      },
      "execution_count": null,
      "outputs": [
        {
          "output_type": "stream",
          "name": "stdout",
          "text": [
            "specialized\n"
          ]
        }
      ]
    },
    {
      "cell_type": "markdown",
      "source": [
        "### ▶ Changing, Adding, and Removing Elements:\n"
      ],
      "metadata": {
        "id": "TUa1vQhNRH3u"
      }
    },
    {
      "cell_type": "code",
      "source": [
        "##modifying list\n",
        "motorcycles = ['honda', 'yamaha', 'suzuki']\n",
        "print(motorcycles)\n",
        "motorcycles[0] = 'ducati'\n",
        "print(motorcycles)"
      ],
      "metadata": {
        "colab": {
          "base_uri": "https://localhost:8080/"
        },
        "id": "gDITh-amR4aH",
        "outputId": "de74253a-597a-42c1-8c47-a53631c66125"
      },
      "execution_count": null,
      "outputs": [
        {
          "output_type": "stream",
          "name": "stdout",
          "text": [
            "['honda', 'yamaha', 'suzuki']\n",
            "['ducati', 'yamaha', 'suzuki']\n"
          ]
        }
      ]
    },
    {
      "cell_type": "code",
      "source": [
        "##Append\n",
        "motorcycles = ['honda', 'yamaha', 'suzuki']\n",
        "print(motorcycles)\n",
        "motorcycles.append('ducati')\n",
        "print(motorcycles)"
      ],
      "metadata": {
        "colab": {
          "base_uri": "https://localhost:8080/"
        },
        "id": "BPYMiDaOR78Y",
        "outputId": "3efe081b-b5d3-40e7-f69e-b395c391aded"
      },
      "execution_count": null,
      "outputs": [
        {
          "output_type": "stream",
          "name": "stdout",
          "text": [
            "['honda', 'yamaha', 'suzuki']\n",
            "['honda', 'yamaha', 'suzuki', 'ducati']\n"
          ]
        }
      ]
    },
    {
      "cell_type": "code",
      "source": [
        "##Insert\n",
        "motorcycles = ['honda', 'yamaha', 'suzuki']\n",
        "motorcycles.insert(0, 'ducati')\n",
        "print(motorcycles)"
      ],
      "metadata": {
        "colab": {
          "base_uri": "https://localhost:8080/"
        },
        "id": "G6bzh44gSAwv",
        "outputId": "98a60845-0a7b-4865-fca0-f83e5f87005b"
      },
      "execution_count": null,
      "outputs": [
        {
          "output_type": "stream",
          "name": "stdout",
          "text": [
            "['ducati', 'honda', 'yamaha', 'suzuki']\n"
          ]
        }
      ]
    },
    {
      "cell_type": "code",
      "source": [
        "##Deleteing from a list\n",
        "motorcycles = ['honda', 'yamaha', 'suzuki']\n",
        "print(motorcycles)\n",
        "del motorcycles[0]\n",
        "print(motorcycles)"
      ],
      "metadata": {
        "colab": {
          "base_uri": "https://localhost:8080/"
        },
        "id": "rhn_BvtGSLQ2",
        "outputId": "4bfd371e-89d1-42be-8f85-b13fe7252e6a"
      },
      "execution_count": null,
      "outputs": [
        {
          "output_type": "stream",
          "name": "stdout",
          "text": [
            "['honda', 'yamaha', 'suzuki']\n",
            "['yamaha', 'suzuki']\n"
          ]
        }
      ]
    },
    {
      "cell_type": "code",
      "source": [
        "##pop\n",
        "motorcycles = ['honda', 'yamaha', 'suzuki']\n",
        "print(motorcycles)\n",
        "popped_motorcycle = motorcycles.pop()\n",
        "print(motorcycles)\n",
        "print(popped_motorcycle)"
      ],
      "metadata": {
        "colab": {
          "base_uri": "https://localhost:8080/"
        },
        "id": "nc8KiybpSfnq",
        "outputId": "3cfbefef-f96e-41cc-aa7d-2aac029defb9"
      },
      "execution_count": null,
      "outputs": [
        {
          "output_type": "stream",
          "name": "stdout",
          "text": [
            "['honda', 'yamaha', 'suzuki']\n",
            "['honda', 'yamaha']\n",
            "suzuki\n"
          ]
        }
      ]
    },
    {
      "cell_type": "markdown",
      "source": [
        "The pop() method removes the last item in a list, but it lets us work\n",
        "with that item after removing it."
      ],
      "metadata": {
        "id": "MPF6uUn6Sqnt"
      }
    },
    {
      "cell_type": "code",
      "source": [
        "motorcycles = ['honda', 'yamaha', 'suzuki']\n",
        "last_owned = motorcycles.pop()\n",
        "print(\"The last motorcycle I owned was a \" + last_owned.title() + \".\")"
      ],
      "metadata": {
        "colab": {
          "base_uri": "https://localhost:8080/"
        },
        "id": "B6lRPClcSnpd",
        "outputId": "a2113300-9bf1-4f01-8d68-6e7767ac4edf"
      },
      "execution_count": null,
      "outputs": [
        {
          "output_type": "stream",
          "name": "stdout",
          "text": [
            "The last motorcycle I owned was a Suzuki.\n"
          ]
        }
      ]
    },
    {
      "cell_type": "markdown",
      "source": [
        "We can actually use pop() to remove an item in a list at any position by\n",
        "including the index of the item you want to remove in parentheses."
      ],
      "metadata": {
        "id": "KBIaziFVS4j_"
      }
    },
    {
      "cell_type": "code",
      "source": [
        "first_owned = motorcycles.pop(0)\n",
        "print('The first motorcycle I owned was a ' + first_owned.title() + '.')"
      ],
      "metadata": {
        "colab": {
          "base_uri": "https://localhost:8080/"
        },
        "id": "6eMKVIp8S-9j",
        "outputId": "d1d71d7d-8b18-4e17-d280-68af939414e1"
      },
      "execution_count": null,
      "outputs": [
        {
          "output_type": "stream",
          "name": "stdout",
          "text": [
            "The first motorcycle I owned was a Honda.\n"
          ]
        }
      ]
    },
    {
      "cell_type": "code",
      "source": [
        "#Remove method\n",
        "motorcycles = ['honda', 'yamaha', 'suzuki', 'ducati']\n",
        "print(motorcycles)\n",
        "motorcycles.remove('ducati')\n",
        "print(motorcycles)"
      ],
      "metadata": {
        "id": "dDQDlzqJTDFA",
        "colab": {
          "base_uri": "https://localhost:8080/"
        },
        "outputId": "99e7b9df-acb4-4c4c-b729-344aa9e52cf2"
      },
      "execution_count": null,
      "outputs": [
        {
          "output_type": "stream",
          "name": "stdout",
          "text": [
            "['honda', 'yamaha', 'suzuki', 'ducati']\n",
            "['honda', 'yamaha', 'suzuki']\n"
          ]
        }
      ]
    },
    {
      "cell_type": "markdown",
      "source": [
        "The `remove()` method deletes only the first occurrence of the value you specify.\n",
        "###  ▶ Sorting List:"
      ],
      "metadata": {
        "id": "NNqcc7nXzV2K"
      }
    },
    {
      "cell_type": "code",
      "source": [
        "#sorting a list\n",
        "cars = ['bmw', 'audi', 'toyota', 'subaru']\n",
        "cars.sort()\n",
        "print(cars)"
      ],
      "metadata": {
        "colab": {
          "base_uri": "https://localhost:8080/"
        },
        "id": "x1Ci4HmQzkNX",
        "outputId": "1f5398d6-2600-4f8c-d157-1ddc2fdb2eb2"
      },
      "execution_count": null,
      "outputs": [
        {
          "output_type": "stream",
          "name": "stdout",
          "text": [
            "['audi', 'bmw', 'subaru', 'toyota']\n"
          ]
        }
      ]
    },
    {
      "cell_type": "markdown",
      "source": [
        "The `sort()` method, changes the order of the list perma-\n",
        "nently. The cars are now in alphabetical order, and we can never revert to\n",
        "the original order."
      ],
      "metadata": {
        "id": "AOz1RofT0AFl"
      }
    },
    {
      "cell_type": "code",
      "source": [
        "##In reverse order\n",
        "cars.sort(reverse=True)\n",
        "print(cars)\n",
        "#Reverse method\n",
        "cars = ['bmw', 'audi', 'toyota', 'subaru']\n",
        "cars.reverse()\n",
        "print(cars)"
      ],
      "metadata": {
        "colab": {
          "base_uri": "https://localhost:8080/"
        },
        "id": "2dyfh7IM0KN_",
        "outputId": "6d070558-0255-4300-d9f4-d5c21e143140"
      },
      "execution_count": null,
      "outputs": [
        {
          "output_type": "stream",
          "name": "stdout",
          "text": [
            "['toyota', 'subaru', 'bmw', 'audi']\n",
            "['subaru', 'toyota', 'audi', 'bmw']\n"
          ]
        }
      ]
    },
    {
      "cell_type": "markdown",
      "source": [
        "> **Reverse does not change list alphabetically, it changes chronological order.**\n",
        "\n",
        "\n",
        "\n"
      ],
      "metadata": {
        "id": "6kxe0y521vTL"
      }
    },
    {
      "cell_type": "markdown",
      "source": [
        "We can sorti a list temporarily with the `sorted()` function.\n",
        "To maintain the original order of a list but present it in a sorted order, we\n",
        "can use the `sorted()` function. The sorted() function lets us display our list\n",
        "in a particular order but doesn’t affect the actual order of the list."
      ],
      "metadata": {
        "id": "4f4ezmHJ0RMv"
      }
    },
    {
      "cell_type": "code",
      "source": [
        "cars = ['bmw', 'audi', 'toyota', 'subaru']\n",
        "print(\"Here is the original list:\")\n",
        "print(cars)\n",
        "print(\"Here is the sorted list:\")\n",
        "print(sorted(cars))\n",
        "print(\"Here is the original list again:\")\n",
        "print(cars)"
      ],
      "metadata": {
        "colab": {
          "base_uri": "https://localhost:8080/"
        },
        "id": "U5jbM1aQ0aET",
        "outputId": "7866cef9-b6c0-4990-c998-ca7cdb6e60cb"
      },
      "execution_count": null,
      "outputs": [
        {
          "output_type": "stream",
          "name": "stdout",
          "text": [
            "Here is the original list:\n",
            "['bmw', 'audi', 'toyota', 'subaru']\n",
            "Here is the sorted list:\n",
            "['audi', 'bmw', 'subaru', 'toyota']\n",
            "Here is the original list again:\n",
            "['bmw', 'audi', 'toyota', 'subaru']\n"
          ]
        }
      ]
    },
    {
      "cell_type": "markdown",
      "source": [
        "Using `len` we can find the number of items in a list"
      ],
      "metadata": {
        "id": "EK7A7aHb3l7v"
      }
    },
    {
      "cell_type": "code",
      "source": [
        "len(cars)"
      ],
      "metadata": {
        "colab": {
          "base_uri": "https://localhost:8080/"
        },
        "id": "tePG5If_3q_a",
        "outputId": "aba2fd66-5cfa-4aff-e6cc-aed86331d457"
      },
      "execution_count": null,
      "outputs": [
        {
          "output_type": "execute_result",
          "data": {
            "text/plain": [
              "4"
            ]
          },
          "metadata": {},
          "execution_count": 12
        }
      ]
    },
    {
      "cell_type": "markdown",
      "source": [
        "### ▶:Index error:\n",
        "\n",
        "An index error means Python can’t figure out the index you requested.One type of error is common to see when you’re working with lists for the\n",
        "first time.Because of the off-by-one\n",
        "nature of indexing in lists, this error is typical. People think the third item\n",
        "is item number 3, because they start counting at 1. But in Python the third\n",
        "item is number 2, because it starts indexing at 0.\n"
      ],
      "metadata": {
        "id": "FyutZK9a02N2"
      }
    },
    {
      "cell_type": "markdown",
      "source": [
        "## ▶ More List examples:"
      ],
      "metadata": {
        "id": "o1dIuWRf40nt"
      }
    },
    {
      "cell_type": "code",
      "source": [
        "##Concat\n",
        "A = [1,2,3,4]\n",
        "B = [6,7,8,9]\n",
        "print(A+B)"
      ],
      "metadata": {
        "colab": {
          "base_uri": "https://localhost:8080/"
        },
        "id": "4q6ZM0804MMN",
        "outputId": "748ec608-d70d-4c46-da0a-df2b2f6792f0"
      },
      "execution_count": null,
      "outputs": [
        {
          "output_type": "stream",
          "name": "stdout",
          "text": [
            "[1, 2, 3, 4, 6, 7, 8, 9]\n"
          ]
        }
      ]
    },
    {
      "cell_type": "code",
      "source": [
        "#Append\n",
        "A.append(B)\n",
        "print(A)"
      ],
      "metadata": {
        "colab": {
          "base_uri": "https://localhost:8080/"
        },
        "id": "UjwqNbKX6ZRy",
        "outputId": "4d58dd91-55c0-47e5-d845-43399285b32d"
      },
      "execution_count": null,
      "outputs": [
        {
          "output_type": "stream",
          "name": "stdout",
          "text": [
            "[1, 2, 3, 4, [6, 7, 8, 9]]\n"
          ]
        }
      ]
    },
    {
      "cell_type": "code",
      "source": [
        "##Extend\n",
        "A = [1,2,3,4]\n",
        "A.extend(B)\n",
        "print(A)"
      ],
      "metadata": {
        "colab": {
          "base_uri": "https://localhost:8080/"
        },
        "id": "uLcg2DWL6ogq",
        "outputId": "fc9ddc40-c99d-44f2-e68e-903997bc08f4"
      },
      "execution_count": null,
      "outputs": [
        {
          "output_type": "stream",
          "name": "stdout",
          "text": [
            "[1, 2, 3, 4, 6, 7, 8, 9]\n"
          ]
        }
      ]
    },
    {
      "cell_type": "markdown",
      "source": [
        "There is difference in `append` and `extend`. We can see that in `append` it add the whole list (B) in A. But in `extend` it took the item of the list(B) and add to A."
      ],
      "metadata": {
        "id": "TcNepSMq7Du9"
      }
    },
    {
      "cell_type": "code",
      "source": [
        "##iterate\n",
        "A = [1,2,3,4]\n",
        "print(A*3)"
      ],
      "metadata": {
        "colab": {
          "base_uri": "https://localhost:8080/"
        },
        "id": "dIO4-49C4--e",
        "outputId": "7d674c26-16e7-4e96-920a-319351689b42"
      },
      "execution_count": null,
      "outputs": [
        {
          "output_type": "stream",
          "name": "stdout",
          "text": [
            "[1, 2, 3, 4, 1, 2, 3, 4, 1, 2, 3, 4]\n"
          ]
        }
      ]
    },
    {
      "cell_type": "code",
      "source": [
        "#index\n",
        "print(A.index(4))"
      ],
      "metadata": {
        "colab": {
          "base_uri": "https://localhost:8080/"
        },
        "id": "dOLzfW_L7anp",
        "outputId": "8422fc05-9cab-482c-ac7a-f669f0150a43"
      },
      "execution_count": null,
      "outputs": [
        {
          "output_type": "stream",
          "name": "stdout",
          "text": [
            "3\n"
          ]
        }
      ]
    },
    {
      "cell_type": "markdown",
      "source": [
        "Here it gives us the index of first occurences of 4. <br>\n",
        "We can make a copy of list also."
      ],
      "metadata": {
        "id": "S8a4aS_l7hRc"
      }
    },
    {
      "cell_type": "code",
      "source": [
        "A_copy = A.copy()\n",
        "print(A_copy)"
      ],
      "metadata": {
        "colab": {
          "base_uri": "https://localhost:8080/"
        },
        "id": "msMW-9Rk88P_",
        "outputId": "178cd41e-4351-4d8b-db56-4ae9b2a578f5"
      },
      "execution_count": null,
      "outputs": [
        {
          "output_type": "stream",
          "name": "stdout",
          "text": [
            "[1, 2, 3, 4]\n"
          ]
        }
      ]
    },
    {
      "cell_type": "markdown",
      "source": [
        "## ▶ Summary:\n",
        "\n",
        "In this chapter you learned what lists are and how to work with the indi-\n",
        "vidual items in a list."
      ],
      "metadata": {
        "id": "FZ9IPk6X4hDD"
      }
    }
  ]
}